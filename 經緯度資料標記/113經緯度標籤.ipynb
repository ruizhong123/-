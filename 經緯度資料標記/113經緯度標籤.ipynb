{
 "cells": [
  {
   "cell_type": "code",
   "execution_count": 3,
   "id": "6da462b3",
   "metadata": {},
   "outputs": [],
   "source": [
    "import pandas as pd\n",
    "\n",
    "data_113 = pd.read_csv(r\"C:\\資料探勘\\原始資料\\DM113.csv\")"
   ]
  },
  {
   "cell_type": "code",
   "execution_count": 1,
   "id": "1529c0d6",
   "metadata": {},
   "outputs": [],
   "source": [
    "import pandas as pd\n",
    "data_113 = pd.read_excel(r\"C:\\資料探勘\\經緯度資料標記\\113_unlabel.xlsx\") \n"
   ]
  },
  {
   "cell_type": "code",
   "execution_count": 3,
   "id": "00865084",
   "metadata": {},
   "outputs": [],
   "source": [
    "label_data_113 = pd.read_excel(r\"C:\\資料探勘\\經緯度資料標記\\113_label.xlsx\")"
   ]
  },
  {
   "cell_type": "code",
   "execution_count": 4,
   "id": "00d55b8b",
   "metadata": {},
   "outputs": [],
   "source": [
    "nomissing_label_data_113 = label_data_113[- label_data_113[['經度','緯度']].isna().any(axis=1)]\n",
    "missing_label_data_113 = label_data_113[label_data_113[['經度','緯度']].isna().any(axis=1)]\n",
    "\n"
   ]
  },
  {
   "cell_type": "code",
   "execution_count": null,
   "id": "68d8b299",
   "metadata": {},
   "outputs": [],
   "source": [
    "missing_label_data_113"
   ]
  },
  {
   "cell_type": "code",
   "execution_count": 4,
   "id": "694e4657",
   "metadata": {},
   "outputs": [],
   "source": [
    "def processing_address(row):\n",
    "    \n",
    "    if \"臺北市\" not in row[\"土地位置建物門牌\"]:  \n",
    "        \n",
    "        return \"臺北市\" + row[\"鄉鎮市區\"] + row[\"土地位置建物門牌\"] \n",
    "    \n",
    "    else:\n",
    "        \n",
    "        return  row[\"土地位置建物門牌\"]\n",
    "\n",
    "    "
   ]
  },
  {
   "cell_type": "code",
   "execution_count": 5,
   "id": "dc41b49f",
   "metadata": {},
   "outputs": [],
   "source": [
    "data_113 = data_113.copy()\n",
    "data_113['土地位置建物門牌'] =  data_113[[\"鄉鎮市區\",\"土地位置建物門牌\"]].apply(processing_address,axis=1)"
   ]
  },
  {
   "cell_type": "markdown",
   "id": "94777d8a",
   "metadata": {},
   "source": [
    "remove the another purpose for land "
   ]
  },
  {
   "cell_type": "code",
   "execution_count": 6,
   "id": "6219afcc",
   "metadata": {},
   "outputs": [],
   "source": [
    "import numpy as np\n",
    "\n",
    "\n",
    "\n",
    "def delete_interupt_address(string):\n",
    "    \n",
    "    try:\n",
    "    \n",
    "        if string[-2:] == \"地號\":\n",
    "\n",
    "            return \"unnormal\"\n",
    "\n",
    "        else :\n",
    "\n",
    "            return \"normal\"\n",
    "        \n",
    "    \n",
    "    except Exception as e:\n",
    "        \n",
    "        return \"unnormal\"\n",
    "\n",
    "    \n",
    "    \n"
   ]
  },
  {
   "cell_type": "code",
   "execution_count": 7,
   "id": "9b4e127a",
   "metadata": {},
   "outputs": [],
   "source": [
    "import numpy as np\n",
    "data_113[\"土地位置建物門牌\"]= data_113[\"土地位置建物門牌\"].apply(lambda x:x if delete_interupt_address(x) == \"normal\" else np.nan)"
   ]
  },
  {
   "cell_type": "code",
   "execution_count": 8,
   "id": "c448e401",
   "metadata": {},
   "outputs": [],
   "source": [
    "data_113= data_113.dropna(subset=[\"土地位置建物門牌\"])\n"
   ]
  },
  {
   "cell_type": "code",
   "execution_count": null,
   "id": "f9982f3f",
   "metadata": {},
   "outputs": [],
   "source": [
    "%pip install selenium"
   ]
  },
  {
   "cell_type": "code",
   "execution_count": null,
   "id": "5fc22e03",
   "metadata": {},
   "outputs": [
    {
     "name": "stderr",
     "output_type": "stream",
     "text": [
      "C:\\Users\\ruizhong\\AppData\\Local\\Temp\\ipykernel_15900\\2129225499.py:71: SettingWithCopyWarning: \n",
      "A value is trying to be set on a copy of a slice from a DataFrame\n",
      "\n",
      "See the caveats in the documentation: https://pandas.pydata.org/pandas-docs/stable/user_guide/indexing.html#returning-a-view-versus-a-copy\n",
      "  missing_label_data_113.at[idx,'經度'] = latitude\n",
      "C:\\Users\\ruizhong\\AppData\\Local\\Temp\\ipykernel_15900\\2129225499.py:71: FutureWarning: Setting an item of incompatible dtype is deprecated and will raise an error in a future version of pandas. Value '25.091031' has dtype incompatible with float64, please explicitly cast to a compatible dtype first.\n",
      "  missing_label_data_113.at[idx,'經度'] = latitude\n",
      "C:\\Users\\ruizhong\\AppData\\Local\\Temp\\ipykernel_15900\\2129225499.py:72: FutureWarning: Setting an item of incompatible dtype is deprecated and will raise an error in a future version of pandas. Value '121.521547' has dtype incompatible with float64, please explicitly cast to a compatible dtype first.\n",
      "  missing_label_data_113.at[idx,'緯度'] = longitude\n"
     ]
    },
    {
     "name": "stdout",
     "output_type": "stream",
     "text": [
      "Processed address 臺北市士林區基河路２３８號七樓之１０: Latitude = 25.091031, Longitude = 121.521547,the number of data 1 \n",
      "Processed address 臺北市士林區忠誠路一段１７３巷２４號二樓: Latitude = 25.108219, Longitude = 121.531891,the number of data 2 \n",
      "Processed address 臺北市士林區天母北路３６巷８號四樓: Latitude = 25.12037, Longitude = 121.525926,the number of data 3 \n",
      "Processed address 臺北市士林區大南路３３５號五樓: Latitude = 25.088197, Longitude = 121.516261,the number of data 4 \n",
      "Processed address 臺北市士林區承德路四段３巷２９號二樓之２: Latitude = 25.078707, Longitude = 121.522372,the number of data 5 \n",
      "Processed address 臺北市大同區哈密街５９巷２弄９之２號五樓: Latitude = 25.078707, Longitude = 121.522372,the number of data 6 \n",
      "Processed address 臺北市大同區大龍街９１巷１２號四樓之１: Latitude = 25.078707, Longitude = 121.522372,the number of data 7 \n",
      "Processed address 臺北市大同區承德路一段２４巷１號九樓: Latitude = 25.078707, Longitude = 121.522372,the number of data 8 \n",
      "Processed address 臺北市大安區延吉街１３１巷１弄１２號五樓: Latitude = 25.078707, Longitude = 121.522372,the number of data 9 \n",
      "Processed address 臺北市大安區忠孝東路四段１５號十一樓: Latitude = 25.078707, Longitude = 121.522372,the number of data 10 \n",
      "Processed address 臺北市大安區大安路一段１７０號五樓: Latitude = 25.078707, Longitude = 121.522372,the number of data 11 \n",
      "Processed address 臺北市中山區南京東路一段１５號二樓等共有部分: Latitude = 25.078707, Longitude = 121.522372,the number of data 12 \n",
      "Processed address 臺北市中山區民權東路一段４８號十二樓之１: Latitude = 25.078707, Longitude = 121.522372,the number of data 13 \n",
      "Processed address 臺北市中山區龍江路３８４巷１１號五樓: Latitude = 25.078707, Longitude = 121.522372,the number of data 14 \n",
      "Processed address 臺北市中山區長安東路二段１６２之１號九樓之３: Latitude = 25.078707, Longitude = 121.522372,the number of data 15 \n",
      "Processed address 臺北市中山區龍江路２３８號三樓: Latitude = 25.078707, Longitude = 121.522372,the number of data 16 \n",
      "Processed address 臺北市內湖區民權東路六段１２３巷２０弄１、３、５、７、９，１２３巷２２、２２之１，１２３巷３４弄２、４、６、８、１０、１２，１２３巷２４、２６、２８、３０、３２號門牌房屋地下一、二層: Latitude = 25.078707, Longitude = 121.522372,the number of data 17 \n",
      "Processed address 臺北市內湖區新明路５１３號四樓: Latitude = 25.078707, Longitude = 121.522372,the number of data 18 \n",
      "Processed address 臺北市內湖區港墘路２６巷３、５、７、９、１１、１３、１３之１號門牌房屋地下二層: Latitude = 25.078707, Longitude = 121.522372,the number of data 19 \n",
      "Processed address 臺北市內湖區康樂街１８６巷２３號六樓: Latitude = 25.076968, Longitude = 121.620507,the number of data 20 \n",
      "Timeout waiting for result for address 臺北市內湖區成功路三段１３９至１４５號門牌房屋地下三層. Skipping...\n",
      "can't find any element in the search. Skipping ...\n",
      "Processed address 臺北市內湖區內湖路三段３５７巷２號三樓: Latitude = 25.088588, Longitude = 121.583766,the number of data 21 \n",
      "Processed address 臺北市內湖區大湖山莊街２０２巷９號四樓: Latitude = 25.088312, Longitude = 121.598095,the number of data 22 \n",
      "Timeout waiting for result for address 臺北市內湖區星雲街３６、３８、４０、４２、４２號之１門牌房屋地下一層. Skipping...\n",
      "can't find any element in the search. Skipping ...\n",
      "Timeout waiting for result for address 臺北市內湖區民權東路六段４７巷１２號五樓. Skipping...\n",
      "Processed address 臺北市內湖區康寧路三段１２號十二樓之１: Latitude = 25.072728, Longitude = 121.606714,the number of data 23 \n",
      "Processed address 臺北市內湖區成功路四段６１巷２２弄３號八樓之２: Latitude = 25.081424, Longitude = 121.593447,the number of data 24 \n",
      "Processed address 臺北市內湖區民權東路六段２８０巷１５５弄５號地下二樓: Latitude = 25.068705, Longitude = 121.608842,the number of data 25 \n",
      "Processed address 臺北市內湖區陽光街３２１巷２６號三樓之１: Latitude = 25.072362, Longitude = 121.578613,the number of data 26 \n",
      "Processed address 臺北市內湖區行愛路１１１號三樓: Latitude = 25.063665, Longitude = 121.580619,the number of data 27 \n",
      "Processed address 臺北市內湖區內湖路一段６７７號四樓: Latitude = 25.079879, Longitude = 121.576193,the number of data 28 \n",
      "Processed address 臺北市內湖區民權東路六段１３６巷３５弄６號四樓: Latitude = 25.067036, Longitude = 121.58805,the number of data 29 \n",
      "Processed address 臺北市內湖區安泰街１１４巷１５號二樓: Latitude = 25.077435, Longitude = 121.616422,the number of data 30 \n",
      "Processed address 臺北市內湖區新明路３８０巷４弄１０之１號三樓: Latitude = 25.054862, Longitude = 121.579862,the number of data 31 \n",
      "Timeout waiting for result for address 臺北市內湖區新豐街３０號十樓. Skipping...\n",
      "can't find any element in the search. Skipping ...\n",
      "Timeout waiting for result for address 臺北市內湖區新明路３８０巷６弄２４號三樓. Skipping...\n",
      "can't find any element in the search. Skipping ...\n",
      "Processed address 臺北市內湖區新明路４６０巷６號三樓: Latitude = 25.053735, Longitude = 121.578571,the number of data 32 \n",
      "Processed address 臺北市內湖區康樂街１８６巷１７號三樓: Latitude = 25.076934, Longitude = 121.620372,the number of data 33 \n",
      "Timeout waiting for result for address 臺北市內湖區星雲街１５２、１５４、１５６、１５８、１６０、１６２、１６４、１６６號門牌房屋地下二、三層. Skipping...\n",
      "Timeout waiting for result for address 臺北市內湖區星雲街１５２、１５４、１５６、１５８、１６０、１６２、１６４、１６６號門牌房屋地下二、三層. Skipping...\n",
      "Timeout waiting for result for address 臺北市內湖區民權東路六段１２３巷２０弄１、３、５、７、９，１２３巷２２、２２之１，１２３巷３４弄２、４、６、８、１０、１２，１２３巷２４、２６、２８、３０、３２號門牌房屋地下一、二層. Skipping...\n",
      "Timeout waiting for result for address 臺北市文山區軍功路１號等共同使用. Skipping...\n",
      "Timeout waiting for result for address 臺北市文山區福興路１０６巷２５、２７、２９、３１、３３、３５、３７、３９號地下二至三層. Skipping...\n",
      "Timeout waiting for result for address 臺北市北投區公路３２１號二樓. Skipping...\n",
      "Timeout waiting for result for address 臺北市北投區公路１５號. Skipping...\n",
      "can't find any element in the search. Skipping ...\n",
      "Timeout waiting for result for address 臺北市北投區溫泉路７１號二樓之９. Skipping...\n",
      "can't find any element in the search. Skipping ...\n",
      "Timeout waiting for result for address 臺北市北投區公路５５號二樓. Skipping...\n",
      "can't find any element in the search. Skipping ...\n",
      "Timeout waiting for result for address 臺北市北投區溫泉路９９之６號四樓. Skipping...\n",
      "Timeout waiting for result for address 臺北市北投區公路２０９巷２５之１號四樓. Skipping...\n",
      "Timeout waiting for result for address 臺北市北投區公路１５９巷１號五樓. Skipping...\n",
      "can't find any element in the search. Skipping ...\n",
      "Timeout waiting for result for address 臺北市北投區復興一路３３巷２號三樓. Skipping...\n",
      "can't find any element in the search. Skipping ...\n",
      "Timeout waiting for result for address 臺北市北投區公路６３巷２０號五樓. Skipping...\n",
      "can't find any element in the search. Skipping ...\n",
      "Timeout waiting for result for address 臺北市北投區公路２２８巷１１１號六樓. Skipping...\n",
      "can't find any element in the search. Skipping ...\n",
      "Timeout waiting for result for address 臺北市北投區公路２９７之２號五樓. Skipping...\n",
      "can't find any element in the search. Skipping ...\n",
      "Timeout waiting for result for address 臺北市北投區公路６３巷２１弄２號. Skipping...\n",
      "Timeout waiting for result for address 臺北市北投區公路３１１號. Skipping...\n",
      "Timeout waiting for result for address 臺北市北投區公路３０１巷１０號四樓. Skipping...\n",
      "Timeout waiting for result for address 臺北市北投區公路２３１巷７弄２號至１０號、１７之１號至１７之２５號地下二樓. Skipping...\n",
      "can't find any element in the search. Skipping ...\n",
      "Timeout waiting for result for address 臺北市北投區公路４２３巷１７號十樓. Skipping...\n",
      "can't find any element in the search. Skipping ...\n",
      "Timeout waiting for result for address 臺北市北投區公路１６５之６號七樓. Skipping...\n",
      "Timeout waiting for result for address 臺北市北投區公路２０９巷１７號三樓. Skipping...\n",
      "Timeout waiting for result for address 臺北市北投區公路４２３巷８弄１號. Skipping...\n",
      "Timeout waiting for result for address 臺北市北投區公路１６１巷２１號五樓. Skipping...\n",
      "Timeout waiting for result for address 臺北市北投區公路２０９巷１９之１號二樓. Skipping...\n",
      "Timeout waiting for result for address 臺北市北投區公路１５３號三樓. Skipping...\n",
      "Timeout waiting for result for address 臺北市北投區公路４２７號房屋地下三層. Skipping...\n",
      "can't find any element in the search. Skipping ...\n",
      "Timeout waiting for result for address 臺北市北投區公路２６５號四樓. Skipping...\n",
      "Timeout waiting for result for address 臺北市北投區公路６３巷９弄４號二樓. Skipping...\n",
      "Timeout waiting for result for address 臺北市北投區公路１３０巷１弄２３號四樓. Skipping...\n"
     ]
    }
   ],
   "source": [
    "import time\n",
    "import requests\n",
    "import random\n",
    "import pandas as pd\n",
    "from bs4 import BeautifulSoup\n",
    "from selenium.webdriver.chrome.service import Service\n",
    "from selenium import webdriver\n",
    "from selenium.webdriver.support.ui import Select\n",
    "from selenium.webdriver.common.by import By\n",
    "from selenium.webdriver.common.action_chains import ActionChains\n",
    "from selenium.webdriver.chrome.options import Options\n",
    "from selenium.webdriver.support.ui import WebDriverWait\n",
    "from selenium.webdriver.support import expected_conditions as EC\n",
    "\n",
    "\n",
    "\n",
    "options = Options()\n",
    "options.chrome_executable_path = r\"C:\\資料探勘\\chromedriver.exe\"\n",
    "driver = webdriver.Chrome(options=options)\n",
    "driver.get(\"https://map.tgos.tw/TGOSCloudMap\")\n",
    "\n",
    "\n",
    "close_button = WebDriverWait(driver, 60).until(\n",
    "            EC.element_to_be_clickable((By.CLASS_NAME, \"bootbox-close-button.close.btn-close\"))\n",
    "        )\n",
    "close_button.click()\n",
    "\n",
    "address_List = []\n",
    "\n",
    "n = 0\n",
    "for idx,address in enumerate(missing_label_data_113[\"土地位置建物門牌\"].to_list()): \n",
    "    \n",
    "    try: \n",
    "    \n",
    "        # Find and clear the search input field (timeout: 2 seconds)\n",
    "        search = WebDriverWait(driver, 5).until(\n",
    "            EC.presence_of_element_located((By.CLASS_NAME, \"form-control.border-end-0.border-start-0\"))\n",
    "        )\n",
    "\n",
    "        search.clear()\n",
    "\n",
    "        # Input the address\n",
    "        search.send_keys(address)\n",
    "\n",
    "        # Wait for the search button to be clickable and click it (timeout: 2 seconds)\n",
    "        search_button = WebDriverWait(driver, 60).until(\n",
    "            EC.element_to_be_clickable((By.CLASS_NAME, \"fa-solid.fa-magnifying-glass.search\"))\n",
    "        )\n",
    "\n",
    "        search_button.click()\n",
    "\n",
    "        time.sleep(random.uniform(5, 10))\n",
    "\n",
    "        # Wait for the <li> element to be present (timeout: 2 seconds)\n",
    "        li_element = WebDriverWait(driver, 60).until(\n",
    "            EC.presence_of_element_located((By.XPATH, '//*[@id=\"map2DArea\"]/div[4]/div/div/div[2]/ul/li')))\n",
    "\n",
    "\n",
    "        # Extract latitude and longitude\n",
    "        latitude = li_element.get_attribute(\"data-lat\")\n",
    "        longitude = li_element.get_attribute(\"data-lng\")\n",
    "        \n",
    "\n",
    "        \n",
    "        # Store the latitude and longitude in the corresponding row of the DataFrame\n",
    "        # Store in the specific row using the index\n",
    "        \n",
    "        \n",
    "        address_List.append([idx,latitude,longitude])\n",
    "        \n",
    "        missing_label_data_113.at[idx,'經度'] = latitude\n",
    "        missing_label_data_113.at[idx,'緯度'] = longitude\n",
    "        \n",
    "        \n",
    "        n += 1\n",
    "        print(f\"Processed address {address}: Latitude = {latitude}, Longitude = {longitude},the number of data {n} \")\n",
    "        \n",
    "    except Exception as e:\n",
    "        \n",
    "        \n",
    "        try:\n",
    "                \n",
    "            print(f\"Timeout waiting for result for address {address}. Skipping...\")\n",
    "\n",
    "            missing_label_data_113.at[idx, '經度'] = pd.NA\n",
    "            missing_label_data_113.at[idx, '緯度'] = pd.NA\n",
    "\n",
    "            address_List.append([idx, None, None])\n",
    "\n",
    "            time.sleep(120) \n",
    "            close_button = WebDriverWait(driver, 300).until(\n",
    "                EC.element_to_be_clickable((By.CLASS_NAME, \"btn.btn-danger.bootbox-accept\"))\n",
    "            )\n",
    "            close_button.click()\n",
    "            time.sleep(10)\n",
    "            \n",
    "            continue\n",
    "            \n",
    "        \n",
    "        except Exception as e:\n",
    "            \n",
    "            print(\"can't find any element in the search. Skipping ...\")\n",
    "            \n",
    "            missing_label_data_113.at[idx, '經度'] = pd.NA\n",
    "            missing_label_data_113.at[idx, '緯度'] = pd.NA\n",
    "            \n",
    "            \n",
    "            search = WebDriverWait(driver, 60).until(\n",
    "            EC.presence_of_element_located((By.CLASS_NAME, \"form-control.border-end-0.border-start-0\"))\n",
    "            )\n",
    "\n",
    "            search.clear()\n",
    "            \n",
    "            continue\n",
    "            \n",
    "   \n",
    "             \n",
    "            "
   ]
  },
  {
   "cell_type": "code",
   "execution_count": null,
   "id": "254f2bea",
   "metadata": {},
   "outputs": [],
   "source": [
    "missing_label_data_113"
   ]
  },
  {
   "cell_type": "code",
   "execution_count": 12,
   "id": "265818b8",
   "metadata": {},
   "outputs": [],
   "source": [
    "pd.set_option(\"display.max_row\",None)\n",
    "label_data_113 = pd.concat([nomissing_label_data_113,missing_label_data_113],axis=0)\n",
    "\n"
   ]
  },
  {
   "cell_type": "code",
   "execution_count": 13,
   "id": "c9f3abff",
   "metadata": {},
   "outputs": [
    {
     "ename": "PermissionError",
     "evalue": "[Errno 13] Permission denied: 'C:\\\\資料探勘\\\\經緯度資料標記\\\\113_label.xlsx'",
     "output_type": "error",
     "traceback": [
      "\u001b[1;31m---------------------------------------------------------------------------\u001b[0m",
      "\u001b[1;31mPermissionError\u001b[0m                           Traceback (most recent call last)",
      "Cell \u001b[1;32mIn[13], line 1\u001b[0m\n\u001b[1;32m----> 1\u001b[0m \u001b[43mlabel_data_113\u001b[49m\u001b[38;5;241;43m.\u001b[39;49m\u001b[43mto_excel\u001b[49m\u001b[43m(\u001b[49m\u001b[38;5;124;43mr\u001b[39;49m\u001b[38;5;124;43m'\u001b[39;49m\u001b[38;5;124;43mC:\u001b[39;49m\u001b[38;5;124;43m\\\u001b[39;49m\u001b[38;5;124;43m資料探勘\u001b[39;49m\u001b[38;5;124;43m\\\u001b[39;49m\u001b[38;5;124;43m經緯度資料標記\u001b[39;49m\u001b[38;5;124;43m\\\u001b[39;49m\u001b[38;5;124;43m113_label.xlsx\u001b[39;49m\u001b[38;5;124;43m'\u001b[39;49m\u001b[43m)\u001b[49m\n",
      "File \u001b[1;32mc:\\Users\\ruizhong\\anaconda3\\envs\\myenv\\Lib\\site-packages\\pandas\\util\\_decorators.py:333\u001b[0m, in \u001b[0;36mdeprecate_nonkeyword_arguments.<locals>.decorate.<locals>.wrapper\u001b[1;34m(*args, **kwargs)\u001b[0m\n\u001b[0;32m    327\u001b[0m \u001b[38;5;28;01mif\u001b[39;00m \u001b[38;5;28mlen\u001b[39m(args) \u001b[38;5;241m>\u001b[39m num_allow_args:\n\u001b[0;32m    328\u001b[0m     warnings\u001b[38;5;241m.\u001b[39mwarn(\n\u001b[0;32m    329\u001b[0m         msg\u001b[38;5;241m.\u001b[39mformat(arguments\u001b[38;5;241m=\u001b[39m_format_argument_list(allow_args)),\n\u001b[0;32m    330\u001b[0m         \u001b[38;5;167;01mFutureWarning\u001b[39;00m,\n\u001b[0;32m    331\u001b[0m         stacklevel\u001b[38;5;241m=\u001b[39mfind_stack_level(),\n\u001b[0;32m    332\u001b[0m     )\n\u001b[1;32m--> 333\u001b[0m \u001b[38;5;28;01mreturn\u001b[39;00m \u001b[43mfunc\u001b[49m\u001b[43m(\u001b[49m\u001b[38;5;241;43m*\u001b[39;49m\u001b[43margs\u001b[49m\u001b[43m,\u001b[49m\u001b[43m \u001b[49m\u001b[38;5;241;43m*\u001b[39;49m\u001b[38;5;241;43m*\u001b[39;49m\u001b[43mkwargs\u001b[49m\u001b[43m)\u001b[49m\n",
      "File \u001b[1;32mc:\\Users\\ruizhong\\anaconda3\\envs\\myenv\\Lib\\site-packages\\pandas\\core\\generic.py:2417\u001b[0m, in \u001b[0;36mNDFrame.to_excel\u001b[1;34m(self, excel_writer, sheet_name, na_rep, float_format, columns, header, index, index_label, startrow, startcol, engine, merge_cells, inf_rep, freeze_panes, storage_options, engine_kwargs)\u001b[0m\n\u001b[0;32m   2404\u001b[0m \u001b[38;5;28;01mfrom\u001b[39;00m \u001b[38;5;21;01mpandas\u001b[39;00m\u001b[38;5;21;01m.\u001b[39;00m\u001b[38;5;21;01mio\u001b[39;00m\u001b[38;5;21;01m.\u001b[39;00m\u001b[38;5;21;01mformats\u001b[39;00m\u001b[38;5;21;01m.\u001b[39;00m\u001b[38;5;21;01mexcel\u001b[39;00m \u001b[38;5;28;01mimport\u001b[39;00m ExcelFormatter\n\u001b[0;32m   2406\u001b[0m formatter \u001b[38;5;241m=\u001b[39m ExcelFormatter(\n\u001b[0;32m   2407\u001b[0m     df,\n\u001b[0;32m   2408\u001b[0m     na_rep\u001b[38;5;241m=\u001b[39mna_rep,\n\u001b[1;32m   (...)\u001b[0m\n\u001b[0;32m   2415\u001b[0m     inf_rep\u001b[38;5;241m=\u001b[39minf_rep,\n\u001b[0;32m   2416\u001b[0m )\n\u001b[1;32m-> 2417\u001b[0m \u001b[43mformatter\u001b[49m\u001b[38;5;241;43m.\u001b[39;49m\u001b[43mwrite\u001b[49m\u001b[43m(\u001b[49m\n\u001b[0;32m   2418\u001b[0m \u001b[43m    \u001b[49m\u001b[43mexcel_writer\u001b[49m\u001b[43m,\u001b[49m\n\u001b[0;32m   2419\u001b[0m \u001b[43m    \u001b[49m\u001b[43msheet_name\u001b[49m\u001b[38;5;241;43m=\u001b[39;49m\u001b[43msheet_name\u001b[49m\u001b[43m,\u001b[49m\n\u001b[0;32m   2420\u001b[0m \u001b[43m    \u001b[49m\u001b[43mstartrow\u001b[49m\u001b[38;5;241;43m=\u001b[39;49m\u001b[43mstartrow\u001b[49m\u001b[43m,\u001b[49m\n\u001b[0;32m   2421\u001b[0m \u001b[43m    \u001b[49m\u001b[43mstartcol\u001b[49m\u001b[38;5;241;43m=\u001b[39;49m\u001b[43mstartcol\u001b[49m\u001b[43m,\u001b[49m\n\u001b[0;32m   2422\u001b[0m \u001b[43m    \u001b[49m\u001b[43mfreeze_panes\u001b[49m\u001b[38;5;241;43m=\u001b[39;49m\u001b[43mfreeze_panes\u001b[49m\u001b[43m,\u001b[49m\n\u001b[0;32m   2423\u001b[0m \u001b[43m    \u001b[49m\u001b[43mengine\u001b[49m\u001b[38;5;241;43m=\u001b[39;49m\u001b[43mengine\u001b[49m\u001b[43m,\u001b[49m\n\u001b[0;32m   2424\u001b[0m \u001b[43m    \u001b[49m\u001b[43mstorage_options\u001b[49m\u001b[38;5;241;43m=\u001b[39;49m\u001b[43mstorage_options\u001b[49m\u001b[43m,\u001b[49m\n\u001b[0;32m   2425\u001b[0m \u001b[43m    \u001b[49m\u001b[43mengine_kwargs\u001b[49m\u001b[38;5;241;43m=\u001b[39;49m\u001b[43mengine_kwargs\u001b[49m\u001b[43m,\u001b[49m\n\u001b[0;32m   2426\u001b[0m \u001b[43m\u001b[49m\u001b[43m)\u001b[49m\n",
      "File \u001b[1;32mc:\\Users\\ruizhong\\anaconda3\\envs\\myenv\\Lib\\site-packages\\pandas\\io\\formats\\excel.py:943\u001b[0m, in \u001b[0;36mExcelFormatter.write\u001b[1;34m(self, writer, sheet_name, startrow, startcol, freeze_panes, engine, storage_options, engine_kwargs)\u001b[0m\n\u001b[0;32m    941\u001b[0m     need_save \u001b[38;5;241m=\u001b[39m \u001b[38;5;28;01mFalse\u001b[39;00m\n\u001b[0;32m    942\u001b[0m \u001b[38;5;28;01melse\u001b[39;00m:\n\u001b[1;32m--> 943\u001b[0m     writer \u001b[38;5;241m=\u001b[39m \u001b[43mExcelWriter\u001b[49m\u001b[43m(\u001b[49m\n\u001b[0;32m    944\u001b[0m \u001b[43m        \u001b[49m\u001b[43mwriter\u001b[49m\u001b[43m,\u001b[49m\n\u001b[0;32m    945\u001b[0m \u001b[43m        \u001b[49m\u001b[43mengine\u001b[49m\u001b[38;5;241;43m=\u001b[39;49m\u001b[43mengine\u001b[49m\u001b[43m,\u001b[49m\n\u001b[0;32m    946\u001b[0m \u001b[43m        \u001b[49m\u001b[43mstorage_options\u001b[49m\u001b[38;5;241;43m=\u001b[39;49m\u001b[43mstorage_options\u001b[49m\u001b[43m,\u001b[49m\n\u001b[0;32m    947\u001b[0m \u001b[43m        \u001b[49m\u001b[43mengine_kwargs\u001b[49m\u001b[38;5;241;43m=\u001b[39;49m\u001b[43mengine_kwargs\u001b[49m\u001b[43m,\u001b[49m\n\u001b[0;32m    948\u001b[0m \u001b[43m    \u001b[49m\u001b[43m)\u001b[49m\n\u001b[0;32m    949\u001b[0m     need_save \u001b[38;5;241m=\u001b[39m \u001b[38;5;28;01mTrue\u001b[39;00m\n\u001b[0;32m    951\u001b[0m \u001b[38;5;28;01mtry\u001b[39;00m:\n",
      "File \u001b[1;32mc:\\Users\\ruizhong\\anaconda3\\envs\\myenv\\Lib\\site-packages\\pandas\\io\\excel\\_openpyxl.py:61\u001b[0m, in \u001b[0;36mOpenpyxlWriter.__init__\u001b[1;34m(self, path, engine, date_format, datetime_format, mode, storage_options, if_sheet_exists, engine_kwargs, **kwargs)\u001b[0m\n\u001b[0;32m     57\u001b[0m \u001b[38;5;28;01mfrom\u001b[39;00m \u001b[38;5;21;01mopenpyxl\u001b[39;00m\u001b[38;5;21;01m.\u001b[39;00m\u001b[38;5;21;01mworkbook\u001b[39;00m \u001b[38;5;28;01mimport\u001b[39;00m Workbook\n\u001b[0;32m     59\u001b[0m engine_kwargs \u001b[38;5;241m=\u001b[39m combine_kwargs(engine_kwargs, kwargs)\n\u001b[1;32m---> 61\u001b[0m \u001b[38;5;28;43msuper\u001b[39;49m\u001b[43m(\u001b[49m\u001b[43m)\u001b[49m\u001b[38;5;241;43m.\u001b[39;49m\u001b[38;5;21;43m__init__\u001b[39;49m\u001b[43m(\u001b[49m\n\u001b[0;32m     62\u001b[0m \u001b[43m    \u001b[49m\u001b[43mpath\u001b[49m\u001b[43m,\u001b[49m\n\u001b[0;32m     63\u001b[0m \u001b[43m    \u001b[49m\u001b[43mmode\u001b[49m\u001b[38;5;241;43m=\u001b[39;49m\u001b[43mmode\u001b[49m\u001b[43m,\u001b[49m\n\u001b[0;32m     64\u001b[0m \u001b[43m    \u001b[49m\u001b[43mstorage_options\u001b[49m\u001b[38;5;241;43m=\u001b[39;49m\u001b[43mstorage_options\u001b[49m\u001b[43m,\u001b[49m\n\u001b[0;32m     65\u001b[0m \u001b[43m    \u001b[49m\u001b[43mif_sheet_exists\u001b[49m\u001b[38;5;241;43m=\u001b[39;49m\u001b[43mif_sheet_exists\u001b[49m\u001b[43m,\u001b[49m\n\u001b[0;32m     66\u001b[0m \u001b[43m    \u001b[49m\u001b[43mengine_kwargs\u001b[49m\u001b[38;5;241;43m=\u001b[39;49m\u001b[43mengine_kwargs\u001b[49m\u001b[43m,\u001b[49m\n\u001b[0;32m     67\u001b[0m \u001b[43m\u001b[49m\u001b[43m)\u001b[49m\n\u001b[0;32m     69\u001b[0m \u001b[38;5;66;03m# ExcelWriter replaced \"a\" by \"r+\" to allow us to first read the excel file from\u001b[39;00m\n\u001b[0;32m     70\u001b[0m \u001b[38;5;66;03m# the file and later write to it\u001b[39;00m\n\u001b[0;32m     71\u001b[0m \u001b[38;5;28;01mif\u001b[39;00m \u001b[38;5;124m\"\u001b[39m\u001b[38;5;124mr+\u001b[39m\u001b[38;5;124m\"\u001b[39m \u001b[38;5;129;01min\u001b[39;00m \u001b[38;5;28mself\u001b[39m\u001b[38;5;241m.\u001b[39m_mode:  \u001b[38;5;66;03m# Load from existing workbook\u001b[39;00m\n",
      "File \u001b[1;32mc:\\Users\\ruizhong\\anaconda3\\envs\\myenv\\Lib\\site-packages\\pandas\\io\\excel\\_base.py:1246\u001b[0m, in \u001b[0;36mExcelWriter.__init__\u001b[1;34m(self, path, engine, date_format, datetime_format, mode, storage_options, if_sheet_exists, engine_kwargs)\u001b[0m\n\u001b[0;32m   1242\u001b[0m \u001b[38;5;28mself\u001b[39m\u001b[38;5;241m.\u001b[39m_handles \u001b[38;5;241m=\u001b[39m IOHandles(\n\u001b[0;32m   1243\u001b[0m     cast(IO[\u001b[38;5;28mbytes\u001b[39m], path), compression\u001b[38;5;241m=\u001b[39m{\u001b[38;5;124m\"\u001b[39m\u001b[38;5;124mcompression\u001b[39m\u001b[38;5;124m\"\u001b[39m: \u001b[38;5;28;01mNone\u001b[39;00m}\n\u001b[0;32m   1244\u001b[0m )\n\u001b[0;32m   1245\u001b[0m \u001b[38;5;28;01mif\u001b[39;00m \u001b[38;5;129;01mnot\u001b[39;00m \u001b[38;5;28misinstance\u001b[39m(path, ExcelWriter):\n\u001b[1;32m-> 1246\u001b[0m     \u001b[38;5;28mself\u001b[39m\u001b[38;5;241m.\u001b[39m_handles \u001b[38;5;241m=\u001b[39m \u001b[43mget_handle\u001b[49m\u001b[43m(\u001b[49m\n\u001b[0;32m   1247\u001b[0m \u001b[43m        \u001b[49m\u001b[43mpath\u001b[49m\u001b[43m,\u001b[49m\u001b[43m \u001b[49m\u001b[43mmode\u001b[49m\u001b[43m,\u001b[49m\u001b[43m \u001b[49m\u001b[43mstorage_options\u001b[49m\u001b[38;5;241;43m=\u001b[39;49m\u001b[43mstorage_options\u001b[49m\u001b[43m,\u001b[49m\u001b[43m \u001b[49m\u001b[43mis_text\u001b[49m\u001b[38;5;241;43m=\u001b[39;49m\u001b[38;5;28;43;01mFalse\u001b[39;49;00m\n\u001b[0;32m   1248\u001b[0m \u001b[43m    \u001b[49m\u001b[43m)\u001b[49m\n\u001b[0;32m   1249\u001b[0m \u001b[38;5;28mself\u001b[39m\u001b[38;5;241m.\u001b[39m_cur_sheet \u001b[38;5;241m=\u001b[39m \u001b[38;5;28;01mNone\u001b[39;00m\n\u001b[0;32m   1251\u001b[0m \u001b[38;5;28;01mif\u001b[39;00m date_format \u001b[38;5;129;01mis\u001b[39;00m \u001b[38;5;28;01mNone\u001b[39;00m:\n",
      "File \u001b[1;32mc:\\Users\\ruizhong\\anaconda3\\envs\\myenv\\Lib\\site-packages\\pandas\\io\\common.py:882\u001b[0m, in \u001b[0;36mget_handle\u001b[1;34m(path_or_buf, mode, encoding, compression, memory_map, is_text, errors, storage_options)\u001b[0m\n\u001b[0;32m    873\u001b[0m         handle \u001b[38;5;241m=\u001b[39m \u001b[38;5;28mopen\u001b[39m(\n\u001b[0;32m    874\u001b[0m             handle,\n\u001b[0;32m    875\u001b[0m             ioargs\u001b[38;5;241m.\u001b[39mmode,\n\u001b[1;32m   (...)\u001b[0m\n\u001b[0;32m    878\u001b[0m             newline\u001b[38;5;241m=\u001b[39m\u001b[38;5;124m\"\u001b[39m\u001b[38;5;124m\"\u001b[39m,\n\u001b[0;32m    879\u001b[0m         )\n\u001b[0;32m    880\u001b[0m     \u001b[38;5;28;01melse\u001b[39;00m:\n\u001b[0;32m    881\u001b[0m         \u001b[38;5;66;03m# Binary mode\u001b[39;00m\n\u001b[1;32m--> 882\u001b[0m         handle \u001b[38;5;241m=\u001b[39m \u001b[38;5;28;43mopen\u001b[39;49m\u001b[43m(\u001b[49m\u001b[43mhandle\u001b[49m\u001b[43m,\u001b[49m\u001b[43m \u001b[49m\u001b[43mioargs\u001b[49m\u001b[38;5;241;43m.\u001b[39;49m\u001b[43mmode\u001b[49m\u001b[43m)\u001b[49m\n\u001b[0;32m    883\u001b[0m     handles\u001b[38;5;241m.\u001b[39mappend(handle)\n\u001b[0;32m    885\u001b[0m \u001b[38;5;66;03m# Convert BytesIO or file objects passed with an encoding\u001b[39;00m\n",
      "\u001b[1;31mPermissionError\u001b[0m: [Errno 13] Permission denied: 'C:\\\\資料探勘\\\\經緯度資料標記\\\\113_label.xlsx'"
     ]
    }
   ],
   "source": [
    "label_data_113.to_excel(r'C:\\資料探勘\\經緯度資料標記\\113_label.xlsx')\n"
   ]
  },
  {
   "cell_type": "code",
   "execution_count": null,
   "id": "1e8c2f95",
   "metadata": {},
   "outputs": [],
   "source": []
  },
  {
   "cell_type": "code",
   "execution_count": 11,
   "id": "4fcf80bb",
   "metadata": {},
   "outputs": [],
   "source": [
    "data_113= pd.DataFrame(data_113)"
   ]
  },
  {
   "cell_type": "code",
   "execution_count": 12,
   "id": "7e531a9f",
   "metadata": {},
   "outputs": [],
   "source": [
    "data_113.to_excel(r\"C:\\資料探勘\\經緯度資料標記\\113_unlabel.xlsx\")"
   ]
  },
  {
   "cell_type": "code",
   "execution_count": 12,
   "id": "1fcdb0ea",
   "metadata": {},
   "outputs": [],
   "source": [
    "pd.DataFrame({\"地址\":extract_lat_lon_112[\"土地位置建物門牌\"]}).to_csv(\"C:\\\\資料探勘\\\\資料探勘作業\\\\address.csv\")"
   ]
  }
 ],
 "metadata": {
  "kernelspec": {
   "display_name": "myenv",
   "language": "python",
   "name": "python3"
  },
  "language_info": {
   "codemirror_mode": {
    "name": "ipython",
    "version": 3
   },
   "file_extension": ".py",
   "mimetype": "text/x-python",
   "name": "python",
   "nbconvert_exporter": "python",
   "pygments_lexer": "ipython3",
   "version": "3.12.5"
  }
 },
 "nbformat": 4,
 "nbformat_minor": 5
}
